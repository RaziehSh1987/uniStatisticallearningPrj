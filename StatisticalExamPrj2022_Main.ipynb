{
 "cells": [
  {
   "cell_type": "code",
   "execution_count": 109,
   "id": "fec76507",
   "metadata": {},
   "outputs": [],
   "source": [
    "#Bishop's Universirty \n",
    "#Statistical Learning (Winter2022)-Dr Dorra Riahi\n",
    "#                                Members \n",
    "# Razieh Shahsavar(002341606)        -    Maryam Bayatzadeh(002338161)\n",
    "# Bahareh Hadadnosrati(002312944)    -    Yasaman Mardan(002341666)"
   ]
  },
  {
   "cell_type": "code",
   "execution_count": 104,
   "id": "9c516a2e",
   "metadata": {},
   "outputs": [],
   "source": [
    "# Importing the libraries\n",
    "import numpy as np\n",
    "import matplotlib.pyplot as plt\n",
    "import pandas as pd\n",
    "from sklearn.metrics import mean_squared_error"
   ]
  },
  {
   "cell_type": "code",
   "execution_count": 85,
   "id": "bcbb98aa",
   "metadata": {},
   "outputs": [
    {
     "data": {
      "text/html": [
       "<div>\n",
       "<style scoped>\n",
       "    .dataframe tbody tr th:only-of-type {\n",
       "        vertical-align: middle;\n",
       "    }\n",
       "\n",
       "    .dataframe tbody tr th {\n",
       "        vertical-align: top;\n",
       "    }\n",
       "\n",
       "    .dataframe thead th {\n",
       "        text-align: right;\n",
       "    }\n",
       "</style>\n",
       "<table border=\"1\" class=\"dataframe\">\n",
       "  <thead>\n",
       "    <tr style=\"text-align: right;\">\n",
       "      <th></th>\n",
       "      <th>Id</th>\n",
       "      <th>SepalLengthCm</th>\n",
       "      <th>SepalWidthCm</th>\n",
       "      <th>PetalLengthCm</th>\n",
       "      <th>PetalWidthCm</th>\n",
       "      <th>Species</th>\n",
       "    </tr>\n",
       "  </thead>\n",
       "  <tbody>\n",
       "    <tr>\n",
       "      <th>0</th>\n",
       "      <td>1</td>\n",
       "      <td>5.1</td>\n",
       "      <td>3.5</td>\n",
       "      <td>1.4</td>\n",
       "      <td>0.2</td>\n",
       "      <td>Iris-setosa</td>\n",
       "    </tr>\n",
       "    <tr>\n",
       "      <th>1</th>\n",
       "      <td>2</td>\n",
       "      <td>4.9</td>\n",
       "      <td>3.0</td>\n",
       "      <td>1.4</td>\n",
       "      <td>0.2</td>\n",
       "      <td>Iris-setosa</td>\n",
       "    </tr>\n",
       "    <tr>\n",
       "      <th>2</th>\n",
       "      <td>3</td>\n",
       "      <td>4.7</td>\n",
       "      <td>3.2</td>\n",
       "      <td>1.3</td>\n",
       "      <td>0.2</td>\n",
       "      <td>Iris-setosa</td>\n",
       "    </tr>\n",
       "    <tr>\n",
       "      <th>3</th>\n",
       "      <td>4</td>\n",
       "      <td>4.6</td>\n",
       "      <td>3.1</td>\n",
       "      <td>1.5</td>\n",
       "      <td>0.2</td>\n",
       "      <td>Iris-setosa</td>\n",
       "    </tr>\n",
       "    <tr>\n",
       "      <th>4</th>\n",
       "      <td>5</td>\n",
       "      <td>5.0</td>\n",
       "      <td>3.6</td>\n",
       "      <td>1.4</td>\n",
       "      <td>0.2</td>\n",
       "      <td>Iris-setosa</td>\n",
       "    </tr>\n",
       "  </tbody>\n",
       "</table>\n",
       "</div>"
      ],
      "text/plain": [
       "   Id  SepalLengthCm  SepalWidthCm  PetalLengthCm  PetalWidthCm      Species\n",
       "0   1            5.1           3.5            1.4           0.2  Iris-setosa\n",
       "1   2            4.9           3.0            1.4           0.2  Iris-setosa\n",
       "2   3            4.7           3.2            1.3           0.2  Iris-setosa\n",
       "3   4            4.6           3.1            1.5           0.2  Iris-setosa\n",
       "4   5            5.0           3.6            1.4           0.2  Iris-setosa"
      ]
     },
     "execution_count": 85,
     "metadata": {},
     "output_type": "execute_result"
    }
   ],
   "source": [
    "# Importing the dataset\n",
    "\n",
    "dataset = pd.read_csv('D:\\\\Razieh\\\\statisticalLearning2022\\\\submit\\\\iris.csv')\n",
    "dataset.head()\n"
   ]
  },
  {
   "cell_type": "code",
   "execution_count": 86,
   "id": "b4edd5c7",
   "metadata": {},
   "outputs": [
    {
     "name": "stdout",
     "output_type": "stream",
     "text": [
      "(150, 4)\n",
      "(150,)\n",
      "x_Training=[[6.  3.4 4.5 1.6]\n",
      " [4.8 3.1 1.6 0.2]\n",
      " [5.8 2.7 5.1 1.9]\n",
      " [5.6 2.7 4.2 1.3]\n",
      " [5.6 2.9 3.6 1.3]\n",
      " [5.5 2.5 4.  1.3]\n",
      " [6.1 3.  4.6 1.4]\n",
      " [7.2 3.2 6.  1.8]\n",
      " [5.3 3.7 1.5 0.2]\n",
      " [4.3 3.  1.1 0.1]\n",
      " [6.4 2.7 5.3 1.9]\n",
      " [5.7 3.  4.2 1.2]\n",
      " [5.4 3.4 1.7 0.2]\n",
      " [5.7 4.4 1.5 0.4]\n",
      " [6.9 3.1 4.9 1.5]\n",
      " [4.6 3.1 1.5 0.2]\n",
      " [5.9 3.  5.1 1.8]\n",
      " [5.1 2.5 3.  1.1]\n",
      " [4.6 3.4 1.4 0.3]\n",
      " [6.2 2.2 4.5 1.5]\n",
      " [7.2 3.6 6.1 2.5]\n",
      " [5.7 2.9 4.2 1.3]\n",
      " [4.8 3.  1.4 0.1]\n",
      " [7.1 3.  5.9 2.1]\n",
      " [6.9 3.2 5.7 2.3]\n",
      " [6.5 3.  5.8 2.2]\n",
      " [6.4 2.8 5.6 2.1]\n",
      " [5.1 3.8 1.6 0.2]\n",
      " [4.8 3.4 1.6 0.2]\n",
      " [6.5 3.2 5.1 2. ]\n",
      " [6.7 3.3 5.7 2.1]\n",
      " [4.5 2.3 1.3 0.3]\n",
      " [6.2 3.4 5.4 2.3]\n",
      " [4.9 3.  1.4 0.2]\n",
      " [5.7 2.5 5.  2. ]\n",
      " [6.9 3.1 5.4 2.1]\n",
      " [4.4 3.2 1.3 0.2]\n",
      " [5.  3.6 1.4 0.2]\n",
      " [7.2 3.  5.8 1.6]\n",
      " [5.1 3.5 1.4 0.3]\n",
      " [4.4 3.  1.3 0.2]\n",
      " [5.4 3.9 1.7 0.4]\n",
      " [5.5 2.3 4.  1.3]\n",
      " [6.8 3.2 5.9 2.3]\n",
      " [7.6 3.  6.6 2.1]\n",
      " [5.1 3.5 1.4 0.2]\n",
      " [4.9 3.1 1.5 0.1]\n",
      " [5.2 3.4 1.4 0.2]\n",
      " [5.7 2.8 4.5 1.3]\n",
      " [6.6 3.  4.4 1.4]\n",
      " [5.  3.2 1.2 0.2]\n",
      " [5.1 3.3 1.7 0.5]\n",
      " [6.4 2.9 4.3 1.3]\n",
      " [5.4 3.4 1.5 0.4]\n",
      " [7.7 2.6 6.9 2.3]\n",
      " [4.9 2.4 3.3 1. ]\n",
      " [7.9 3.8 6.4 2. ]\n",
      " [6.7 3.1 4.4 1.4]\n",
      " [5.2 4.1 1.5 0.1]\n",
      " [6.  3.  4.8 1.8]\n",
      " [5.8 4.  1.2 0.2]\n",
      " [7.7 2.8 6.7 2. ]\n",
      " [5.1 3.8 1.5 0.3]\n",
      " [4.7 3.2 1.6 0.2]\n",
      " [7.4 2.8 6.1 1.9]\n",
      " [5.  3.3 1.4 0.2]\n",
      " [6.3 3.4 5.6 2.4]\n",
      " [5.7 2.8 4.1 1.3]\n",
      " [5.8 2.7 3.9 1.2]\n",
      " [5.7 2.6 3.5 1. ]\n",
      " [6.4 3.2 5.3 2.3]\n",
      " [6.7 3.  5.2 2.3]\n",
      " [6.3 2.5 4.9 1.5]\n",
      " [6.7 3.  5.  1.7]\n",
      " [5.  3.  1.6 0.2]\n",
      " [5.5 2.4 3.7 1. ]\n",
      " [6.7 3.1 5.6 2.4]\n",
      " [5.8 2.7 5.1 1.9]\n",
      " [5.1 3.4 1.5 0.2]\n",
      " [6.6 2.9 4.6 1.3]\n",
      " [5.6 3.  4.1 1.3]\n",
      " [5.9 3.2 4.8 1.8]\n",
      " [6.3 2.3 4.4 1.3]\n",
      " [5.5 3.5 1.3 0.2]\n",
      " [5.1 3.7 1.5 0.4]\n",
      " [4.9 3.1 1.5 0.1]\n",
      " [6.3 2.9 5.6 1.8]\n",
      " [5.8 2.7 4.1 1. ]\n",
      " [7.7 3.8 6.7 2.2]\n",
      " [4.6 3.2 1.4 0.2]]\n",
      "y_Training=['Iris-versicolor' 'Iris-setosa' 'Iris-virginica' 'Iris-versicolor'\n",
      " 'Iris-versicolor' 'Iris-versicolor' 'Iris-versicolor' 'Iris-virginica'\n",
      " 'Iris-setosa' 'Iris-setosa' 'Iris-virginica' 'Iris-versicolor'\n",
      " 'Iris-setosa' 'Iris-setosa' 'Iris-versicolor' 'Iris-setosa'\n",
      " 'Iris-virginica' 'Iris-versicolor' 'Iris-setosa' 'Iris-versicolor'\n",
      " 'Iris-virginica' 'Iris-versicolor' 'Iris-setosa' 'Iris-virginica'\n",
      " 'Iris-virginica' 'Iris-virginica' 'Iris-virginica' 'Iris-setosa'\n",
      " 'Iris-setosa' 'Iris-virginica' 'Iris-virginica' 'Iris-setosa'\n",
      " 'Iris-virginica' 'Iris-setosa' 'Iris-virginica' 'Iris-virginica'\n",
      " 'Iris-setosa' 'Iris-setosa' 'Iris-virginica' 'Iris-setosa' 'Iris-setosa'\n",
      " 'Iris-setosa' 'Iris-versicolor' 'Iris-virginica' 'Iris-virginica'\n",
      " 'Iris-setosa' 'Iris-setosa' 'Iris-setosa' 'Iris-versicolor'\n",
      " 'Iris-versicolor' 'Iris-setosa' 'Iris-setosa' 'Iris-versicolor'\n",
      " 'Iris-setosa' 'Iris-virginica' 'Iris-versicolor' 'Iris-virginica'\n",
      " 'Iris-versicolor' 'Iris-setosa' 'Iris-virginica' 'Iris-setosa'\n",
      " 'Iris-virginica' 'Iris-setosa' 'Iris-setosa' 'Iris-virginica'\n",
      " 'Iris-setosa' 'Iris-virginica' 'Iris-versicolor' 'Iris-versicolor'\n",
      " 'Iris-versicolor' 'Iris-virginica' 'Iris-virginica' 'Iris-versicolor'\n",
      " 'Iris-versicolor' 'Iris-setosa' 'Iris-versicolor' 'Iris-virginica'\n",
      " 'Iris-virginica' 'Iris-setosa' 'Iris-versicolor' 'Iris-versicolor'\n",
      " 'Iris-versicolor' 'Iris-versicolor' 'Iris-setosa' 'Iris-setosa'\n",
      " 'Iris-setosa' 'Iris-virginica' 'Iris-versicolor' 'Iris-virginica'\n",
      " 'Iris-setosa']\n",
      "y_Test(OneHotEncoding)=[[0. 0. 1.]\n",
      " [0. 1. 0.]\n",
      " [1. 0. 0.]\n",
      " [0. 0. 1.]\n",
      " [1. 0. 0.]\n",
      " [0. 0. 1.]\n",
      " [1. 0. 0.]\n",
      " [0. 1. 0.]\n",
      " [0. 1. 0.]\n",
      " [0. 1. 0.]\n",
      " [0. 0. 1.]\n",
      " [0. 1. 0.]\n",
      " [0. 1. 0.]\n",
      " [0. 1. 0.]\n",
      " [0. 1. 0.]\n",
      " [1. 0. 0.]\n",
      " [0. 1. 0.]\n",
      " [0. 1. 0.]\n",
      " [1. 0. 0.]\n",
      " [1. 0. 0.]\n",
      " [0. 0. 1.]\n",
      " [0. 1. 0.]\n",
      " [1. 0. 0.]\n",
      " [1. 0. 0.]\n",
      " [0. 0. 1.]\n",
      " [1. 0. 0.]\n",
      " [1. 0. 0.]\n",
      " [0. 1. 0.]\n",
      " [0. 1. 0.]\n",
      " [1. 0. 0.]\n",
      " [0. 0. 1.]\n",
      " [0. 1. 0.]\n",
      " [1. 0. 0.]\n",
      " [0. 0. 1.]\n",
      " [0. 0. 1.]\n",
      " [0. 1. 0.]\n",
      " [1. 0. 0.]\n",
      " [0. 1. 0.]\n",
      " [0. 1. 0.]\n",
      " [0. 1. 0.]\n",
      " [0. 0. 1.]\n",
      " [1. 0. 0.]\n",
      " [0. 0. 1.]\n",
      " [1. 0. 0.]\n",
      " [1. 0. 0.]\n",
      " [0. 1. 0.]\n",
      " [0. 0. 1.]\n",
      " [0. 0. 1.]\n",
      " [0. 0. 1.]\n",
      " [0. 0. 1.]\n",
      " [0. 1. 0.]\n",
      " [0. 0. 1.]\n",
      " [0. 1. 0.]\n",
      " [0. 1. 0.]\n",
      " [0. 0. 1.]\n",
      " [0. 0. 1.]\n",
      " [0. 0. 1.]\n",
      " [0. 0. 1.]\n",
      " [0. 1. 0.]\n",
      " [0. 0. 1.]]\n"
     ]
    },
    {
     "data": {
      "image/png": "[encoded data removed]",
      "text/plain": [
       "<Figure size 432x288 with 1 Axes>"
      ]
     },
     "metadata": {
      "needs_background": "light"
     },
     "output_type": "display_data"
    }
   ],
   "source": [
    "# Splitting the dataset into the Training set and Test set\n",
    "\n",
    "X = dataset.iloc[:, 1:-1].values\n",
    "y = dataset.iloc[:,-1].values\n",
    "from sklearn.model_selection import train_test_split\n",
    "X_train, X_test, y_train, y_test = train_test_split(X, y, test_size = 0.40, random_state = 0)\n",
    "print(X.shape) #150rows and 4 columns\n",
    "print(y.shape)\n",
    "print(f\"x_Training={X_train}\")\n",
    "print(f\"y_Training={y_train}\")\n",
    "\n",
    "\n",
    "\n",
    "\n",
    "#conver picies column(y_pred) to numerical by onehotencoding\n",
    "from sklearn.preprocessing import LabelEncoder, OneHotEncoder\n",
    "onehotencoder = OneHotEncoder(categories='auto')\n",
    "y_test_encoder= onehotencoder.fit_transform(y_test.reshape(-1,1))\n",
    "# y - will be sparse matrix of type '<class 'numpy.float64'>\n",
    "# if you want it to be a array you need to \n",
    "print(f\"y_Test(OneHotEncoding)={y_test_encoder.toarray()}\")\n",
    "\n",
    "# Plot the relation of each feature with each species(simple diagram without any models)\n",
    "plt.xlabel('Features')\n",
    "plt.ylabel('Species')\n",
    "\n",
    "pltX = dataset.loc[:, 'SepalLengthCm']\n",
    "pltY = dataset.loc[:,'Species']\n",
    "plt.scatter(pltX, pltY, color='blue', label='sepal_length')\n",
    "\n",
    "pltX = dataset.loc[:, 'SepalWidthCm']\n",
    "pltY = dataset.loc[:,'Species']\n",
    "plt.scatter(pltX, pltY, color='green', label='sepal_width')\n",
    "\n",
    "pltX = dataset.loc[:, 'PetalLengthCm']\n",
    "pltY = dataset.loc[:,'Species']\n",
    "plt.scatter(pltX, pltY, color='red', label='petal_length')\n",
    "\n",
    "pltX = dataset.loc[:, 'PetalWidthCm']\n",
    "pltY = dataset.loc[:,'Species']\n",
    "plt.scatter(pltX, pltY, color='black', label='petal_width')\n",
    "\n",
    "plt.title(\"Simple Iris(without any Model)\")\n",
    "plt.legend(loc=4, prop={'size':8})\n",
    "plt.show()\n",
    "\n"
   ]
  },
  {
   "cell_type": "code",
   "execution_count": 87,
   "id": "22addf2a",
   "metadata": {},
   "outputs": [],
   "source": [
    "#preprocessing befor Model\n",
    "from sklearn.preprocessing import StandardScaler\n",
    "sc = StandardScaler()\n",
    "X_train = sc.fit_transform(X_train)\n",
    "X_test = sc.transform(X_test)\n"
   ]
  },
  {
   "cell_type": "code",
   "execution_count": 88,
   "id": "9aea1dcc",
   "metadata": {},
   "outputs": [
    {
     "name": "stdout",
     "output_type": "stream",
     "text": [
      "Logistic Regression[Training time]=0.0070024s\n"
     ]
    }
   ],
   "source": [
    "# Fitting Logistic Regression to the Training set - and  calculate time consuming\n",
    "import time\n",
    "from sklearn.linear_model import LogisticRegression\n",
    "classifier = LogisticRegression(random_state = 0)\n",
    "start=time.time()\n",
    "classifier.fit(X_train,y_train) #training the model\n",
    "stop=time.time()\n",
    "Logistic_Time=round(stop - start,7)\n",
    "print(f\"Logistic Regression[Training time]={Logistic_Time}s\")"
   ]
  },
  {
   "cell_type": "code",
   "execution_count": 89,
   "id": "18804d4c",
   "metadata": {},
   "outputs": [
    {
     "name": "stdout",
     "output_type": "stream",
     "text": [
      "Logistic Regression[Prediction accuracy]=0.93\n",
      "Logistic Regression(Training Error Rate)=0.044444444444444446\n"
     ]
    }
   ],
   "source": [
    "#TEst the model\n",
    "y_pred=classifier.predict(X_test)\n",
    "# print(f\"y_prediction={y_pred}\")\n",
    "\n",
    "\n",
    "from sklearn.metrics import accuracy_score\n",
    "accuracy=accuracy_score(y_test,y_pred)\n",
    "\n",
    "#show accuracy of prediction\n",
    "print(f\"Logistic Regression[Prediction accuracy]={round(accuracy,2)}\")\n",
    "\n",
    "#convert picies column(y_pred) to numerical by oneHotencoding\n",
    "from sklearn.preprocessing import LabelEncoder, OneHotEncoder\n",
    "onehotencoder = OneHotEncoder(categories='auto')\n",
    "y_pred_encoder= onehotencoder.fit_transform(y_pred.reshape(-1,1))\n",
    "# #y - will be sparse matrix of type '<class 'numpy.float64'>\n",
    "# #if you want it to be a array you need to \n",
    "# print(f\"y_prediction(OneHtEncoder)={y_pred_encoder.toarray()}\")\n",
    "\n",
    "#calculate Training Error rate(MSE)\n",
    "# print(y_pred_encoder.shape)\n",
    "# print(y_test_encoder.shape)\n",
    "# print(f\"subtract={(y_test_encoder-y_pred_encoder).shape}\")\n",
    "mse_Logistic=mean_squared_error(y_test_encoder.toarray(),y_pred_encoder.toarray())\n",
    "print(f\"Logistic Regression(Training Error Rate)={mse_Logistic}\")"
   ]
  },
  {
   "cell_type": "code",
   "execution_count": 90,
   "id": "5781d682",
   "metadata": {},
   "outputs": [
    {
     "name": "stdout",
     "output_type": "stream",
     "text": [
      "K_NN[Training time]=0.0009785s\n"
     ]
    }
   ],
   "source": [
    "# Fitting K_NN to the Training set - and  calculate time consuming\n",
    "from sklearn.neighbors import KNeighborsClassifier\n",
    "classifier1=KNeighborsClassifier(n_neighbors=5,metric='minkowski',p=2)\n",
    "start=time.time()\n",
    "classifier1.fit(X_train,y_train)\n",
    "stop=time.time()\n",
    "K_NN_Time=round(stop - start,7)\n",
    "print(f\"K_NN[Training time]={K_NN_Time}s\")"
   ]
  },
  {
   "cell_type": "code",
   "execution_count": 91,
   "id": "f0524c14",
   "metadata": {},
   "outputs": [
    {
     "name": "stdout",
     "output_type": "stream",
     "text": [
      "K_NN[Prediction accuracy]=0.93\n",
      "K_NN(Training Error Rate)=0.044444444444444446\n"
     ]
    }
   ],
   "source": [
    "#TEst the K_NN model and show accuracy of prediction\n",
    "y_pred=classifier1.predict(X_test)\n",
    "# print(y_pred)\n",
    "\n",
    "#show accuracy of prediction\n",
    "from sklearn.metrics import accuracy_score\n",
    "accuracy1=accuracy_score(y_test,y_pred)\n",
    "print(f\"K_NN[Prediction accuracy]={round(accuracy1,2)}\")\n",
    "\n",
    "\n",
    "#convert picies column(y_pred) to numerical by onehotencoding\n",
    "from sklearn.preprocessing import LabelEncoder, OneHotEncoder\n",
    "onehotencoder = OneHotEncoder(categories='auto')\n",
    "y_pred_encoder= onehotencoder.fit_transform(y_pred.reshape(-1,1))\n",
    "\n",
    "#calculate Training Error rate(MSE)\n",
    "mse_K_NN=mean_squared_error(y_test_encoder.toarray(),y_pred_encoder.toarray())\n",
    "print(f\"K_NN(Training Error Rate)={mse_K_NN}\")\n"
   ]
  },
  {
   "cell_type": "code",
   "execution_count": 92,
   "id": "a38833b7",
   "metadata": {},
   "outputs": [
    {
     "name": "stdout",
     "output_type": "stream",
     "text": [
      "SVM[Training time]=0.0029862s\n"
     ]
    }
   ],
   "source": [
    "# Fitting SVM to the Training set - and  calculate time consuming\n",
    "from sklearn.svm import SVC\n",
    "classifier2=SVC(kernel='linear',random_state=0)\n",
    "start=time.time()\n",
    "classifier2.fit(X_train,y_train)\n",
    "stop=time.time()\n",
    "SVM_Time=round(stop - start,7)\n",
    "print(f\"SVM[Training time]={SVM_Time}s\")"
   ]
  },
  {
   "cell_type": "code",
   "execution_count": 93,
   "id": "5ac23202",
   "metadata": {},
   "outputs": [
    {
     "name": "stdout",
     "output_type": "stream",
     "text": [
      "SVM[Prediction accuracy]=0.93\n",
      "SVM(Training Error Rate)=0.044444444444444446\n"
     ]
    }
   ],
   "source": [
    "#TEst the SVM model and show accuracy of prediction\n",
    "y_pred2=classifier2.predict(X_test)\n",
    "# print(y_pred)\n",
    "\n",
    "#show accuracy of prediction\n",
    "from sklearn.metrics import accuracy_score\n",
    "accuracy2=accuracy_score(y_test,y_pred2)\n",
    "print(f\"SVM[Prediction accuracy]={round(accuracy2,2)}\")\n",
    "\n",
    "\n",
    "#convert picies column(y_pred) to numerical by onehotencoding\n",
    "from sklearn.preprocessing import LabelEncoder, OneHotEncoder\n",
    "onehotencoder = OneHotEncoder(categories='auto')\n",
    "y_pred_encoder2= onehotencoder.fit_transform(y_pred2.reshape(-1,1))\n",
    "\n",
    "#calculate Training Error rate(MSE)\n",
    "mse_SVM=mean_squared_error(y_test_encoder.toarray(),y_pred_encoder2.toarray())\n",
    "print(f\"SVM(Training Error Rate)={mse_SVM}\")\n"
   ]
  },
  {
   "cell_type": "code",
   "execution_count": 95,
   "id": "493d7b1e",
   "metadata": {},
   "outputs": [
    {
     "data": {
      "image/png": "[encoded data removed]",
      "text/plain": [
       "<Figure size 432x288 with 1 Axes>"
      ]
     },
     "metadata": {
      "needs_background": "light"
     },
     "output_type": "display_data"
    },
    {
     "data": {
      "image/png": "[encoded data removed]",
      "text/plain": [
       "<Figure size 432x288 with 1 Axes>"
      ]
     },
     "metadata": {
      "needs_background": "light"
     },
     "output_type": "display_data"
    },
    {
     "data": {
      "image/png": "[encoded data removed]",
      "text/plain": [
       "<Figure size 432x288 with 1 Axes>"
      ]
     },
     "metadata": {
      "needs_background": "light"
     },
     "output_type": "display_data"
    }
   ],
   "source": [
    "import matplotlib.pyplot as plt\n",
    "\n",
    "#plot Training error rate\n",
    "y_axis=[mse_Logistic,mse_K_NN,mse_SVM]\n",
    "x_axis=[\"Logistic Regression\",\"K_NN\",\"SVM\"]\n",
    "New_Colors = ['green','blue','purple']\n",
    "plt.bar(x_axis,y_axis,color=New_Colors)\n",
    "plt.title('Training Error Rate')\n",
    "plt.ylabel('MSE')\n",
    "plt.xlabel('Classification Models')\n",
    "plt.grid(True)\n",
    "plt.show()\n",
    "\n",
    "#plot  accuracy of Prediction\n",
    "y_axis=[accuracy,accuracy1,accuracy2]\n",
    "x_axis=[\"Logistic Regression\",\"K_NN\",\"SVM\"]\n",
    "New_Colors = ['red','gray','orange']\n",
    "plt.bar(x_axis,y_axis,color=New_Colors)\n",
    "plt.title('Result Robustness')\n",
    "plt.ylabel('Result Robustness(accuracy)')\n",
    "plt.xlabel('Classification Models')\n",
    "plt.grid(True)\n",
    "plt.show()\n",
    "\n",
    "\n",
    "#plot Time Consuming\n",
    "y_axis=[Logistic_Time,K_NN_Time,SVM_Time]\n",
    "x_axis=[\"Logistic Regression\",\"K_NN\",\"SVM\"]\n",
    "New_Colors = ['brown','cyan','yellow']\n",
    "plt.bar(x_axis,y_axis,color=New_Colors)\n",
    "plt.title(' Time Consuming')\n",
    "plt.ylabel(' Time Consuming')\n",
    "plt.xlabel('Classification Models')\n",
    "plt.grid(True)\n",
    "plt.show()\n"
   ]
  },
  {
   "cell_type": "code",
   "execution_count": null,
   "id": "6f1e0392",
   "metadata": {},
   "outputs": [],
   "source": []
  }
 ],
 "metadata": {
  "kernelspec": {
   "display_name": "Python 3 (ipykernel)",
   "language": "python",
   "name": "python3"
  },
  "language_info": {
   "codemirror_mode": {
    "name": "ipython",
    "version": 3
   },
   "file_extension": ".py",
   "mimetype": "text/x-python",
   "name": "python",
   "nbconvert_exporter": "python",
   "pygments_lexer": "ipython3",
   "version": "3.9.7"
  }
 },
 "nbformat": 4,
 "nbformat_minor": 5
}
